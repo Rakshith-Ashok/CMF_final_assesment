{
 "cells": [
  {
   "cell_type": "code",
   "execution_count": 1,
   "id": "fd4e1b20-311a-4f9d-8f10-bf2a92ec7dad",
   "metadata": {},
   "outputs": [],
   "source": [
    "import numpy as np\n",
    "from scipy.stats import norm\n"
   ]
  },
  {
   "cell_type": "code",
   "execution_count": 3,
   "id": "c6eec0f0-c9e4-4284-bd9b-2fbd7e9c4f31",
   "metadata": {},
   "outputs": [],
   "source": [
    "def black_scholes_call(S0, K, T, r, sigma):\n",
    "    \"\"\"\n",
    "    Calculate European Call Option price using the Black-Scholes formula.\n",
    "    \"\"\"\n",
    "    d1 = (np.log(S0 / K) + (r + 0.5 * sigma ** 2) * T) / (sigma * np.sqrt(T))\n",
    "    d2 = d1 - sigma * np.sqrt(T)\n",
    "    call_price = S0 * norm.cdf(d1) - K * np.exp(-r * T) * norm.cdf(d2)\n",
    "    return call_price\n"
   ]
  },
  {
   "cell_type": "code",
   "execution_count": 5,
   "id": "727a02f6-4694-47b0-b8a7-ffc5882af802",
   "metadata": {},
   "outputs": [],
   "source": [
    "def vega(S0, K, T, r, sigma):\n",
    "    \"\"\"\n",
    "    Calculate the Vega of the call option.\n",
    "    \"\"\"\n",
    "    d1 = (np.log(S0 / K) + (r + 0.5 * sigma ** 2) * T) / (sigma * np.sqrt(T))\n",
    "    vega = S0 * norm.pdf(d1) * np.sqrt(T)\n",
    "    return vega\n"
   ]
  },
  {
   "cell_type": "code",
   "execution_count": 7,
   "id": "dca96f7f-9caf-46fd-9a58-2bc272d6cd65",
   "metadata": {},
   "outputs": [],
   "source": [
    "def newton_raphson_iv(S0, K, T, r, market_price, initial_guess=0.2, tol=1e-6, max_iter=100):\n",
    "    \"\"\"\n",
    "    Estimate the implied volatility using the Newton-Raphson method.\n",
    "    \"\"\"\n",
    "    sigma = initial_guess  # Initial guess for volatility\n",
    "    \n",
    "    for i in range(max_iter):\n",
    "        price = black_scholes_call(S0, K, T, r, sigma)\n",
    "        diff = price - market_price  # Difference between model and market price\n",
    "        \n",
    "        if abs(diff) < tol:  # Check for convergence\n",
    "            return sigma\n",
    "        \n",
    "        sigma -= diff / vega(S0, K, T, r, sigma)  # Newton-Raphson update\n",
    "    \n",
    "    raise ValueError(\"Implied volatility did not converge\")\n"
   ]
  },
  {
   "cell_type": "code",
   "execution_count": 9,
   "id": "94d3a659-b814-4fca-9828-ecfb03b37a39",
   "metadata": {},
   "outputs": [
    {
     "name": "stdout",
     "output_type": "stream",
     "text": [
      "Implied Volatility: 0.248474\n"
     ]
    }
   ],
   "source": [
    "# Inputs\n",
    "S0 = 100          # Current stock price\n",
    "K = 110           # Strike price\n",
    "T = 1.0           # Time to maturity (1 year)\n",
    "r = 0.05          # Risk-free rate (5%)\n",
    "market_price = 7.9656  # Observed market price of the call option\n",
    "\n",
    "# Find implied volatility\n",
    "implied_vol = newton_raphson_iv(S0, K, T, r, market_price)\n",
    "\n",
    "print(f\"Implied Volatility: {implied_vol:.6f}\")\n"
   ]
  },
  {
   "cell_type": "code",
   "execution_count": null,
   "id": "6329970f-7a05-4c74-860e-0c5f61dac329",
   "metadata": {},
   "outputs": [],
   "source": []
  }
 ],
 "metadata": {
  "kernelspec": {
   "display_name": "Python 3 (ipykernel)",
   "language": "python",
   "name": "python3"
  },
  "language_info": {
   "codemirror_mode": {
    "name": "ipython",
    "version": 3
   },
   "file_extension": ".py",
   "mimetype": "text/x-python",
   "name": "python",
   "nbconvert_exporter": "python",
   "pygments_lexer": "ipython3",
   "version": "3.12.4"
  }
 },
 "nbformat": 4,
 "nbformat_minor": 5
}
