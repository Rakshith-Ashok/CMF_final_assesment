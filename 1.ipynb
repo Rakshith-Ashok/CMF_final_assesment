{
 "cells": [
  {
   "cell_type": "code",
   "execution_count": 1,
   "id": "e65258f6-87d5-478a-bfd3-a2357dcd5579",
   "metadata": {},
   "outputs": [
    {
     "name": "stdout",
     "output_type": "stream",
     "text": [
      "Black-Scholes-Merton Call Price: 6.0401\n",
      "Monte Carlo Simulated Call Price: 6.0603\n"
     ]
    }
   ],
   "source": [
    "import numpy as np\n",
    "from scipy.stats import norm\n",
    "\n",
    "# Black-Scholes-Merton Formula for European Call Option\n",
    "def black_scholes_call(S0, K, T, r, sigma):\n",
    "    d1 = (np.log(S0 / K) + (r + 0.5 * sigma ** 2) * T) / (sigma * np.sqrt(T))\n",
    "    d2 = d1 - sigma * np.sqrt(T)\n",
    "    call_price = S0 * norm.cdf(d1) - K * np.exp(-r * T) * norm.cdf(d2)\n",
    "    return call_price\n",
    "\n",
    "# Monte Carlo Simulation for European Call Option\n",
    "def monte_carlo_call(S0, K, T, r, sigma, num_simulations=100000):\n",
    "    np.random.seed(42)  # For reproducibility\n",
    "    Z = np.random.standard_normal(num_simulations)\n",
    "    ST = S0 * np.exp((r - 0.5 * sigma ** 2) * T + sigma * np.sqrt(T) * Z)\n",
    "    payoff = np.maximum(ST - K, 0)\n",
    "    call_price = np.exp(-r * T) * np.mean(payoff)\n",
    "    return call_price\n",
    "\n",
    "# Parameters\n",
    "S0 = 100     # Current stock price\n",
    "K = 110      # Strike price\n",
    "T = 1.0      # Time to maturity (1 year)\n",
    "r = 0.05     # Risk-free rate (5%)\n",
    "sigma = 0.2  # Volatility (20%)\n",
    "num_simulations = 100000\n",
    "\n",
    "# Calculations\n",
    "bsm_price = black_scholes_call(S0, K, T, r, sigma)\n",
    "mc_price = monte_carlo_call(S0, K, T, r, sigma, num_simulations)\n",
    "\n",
    "# Output\n",
    "print(\"Black-Scholes-Merton Call Price: {:.4f}\".format(bsm_price))\n",
    "print(\"Monte Carlo Simulated Call Price: {:.4f}\".format(mc_price))\n"
   ]
  },
  {
   "cell_type": "code",
   "execution_count": null,
   "id": "1d251b77-ab5f-4a4e-a97c-62b949d180c1",
   "metadata": {},
   "outputs": [],
   "source": []
  }
 ],
 "metadata": {
  "kernelspec": {
   "display_name": "Python 3 (ipykernel)",
   "language": "python",
   "name": "python3"
  },
  "language_info": {
   "codemirror_mode": {
    "name": "ipython",
    "version": 3
   },
   "file_extension": ".py",
   "mimetype": "text/x-python",
   "name": "python",
   "nbconvert_exporter": "python",
   "pygments_lexer": "ipython3",
   "version": "3.12.4"
  }
 },
 "nbformat": 4,
 "nbformat_minor": 5
}
